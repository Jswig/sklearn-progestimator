{
 "cells": [
  {
   "cell_type": "markdown",
   "metadata": {},
   "source": [
    "# Sklearn stepwise estimator experimentation"
   ]
  },
  {
   "cell_type": "code",
   "execution_count": 1,
   "metadata": {},
   "outputs": [],
   "source": [
    "import pandas as pd\n",
    "import numpy as np\n",
    "import sklearn"
   ]
  },
  {
   "cell_type": "code",
   "execution_count": 57,
   "metadata": {},
   "outputs": [],
   "source": [
    "from sklearn.base import BaseEstimator, RegressorMixin, is_regressor\n",
    "from sklearn.utils.validation import check_X_y, check_array, check_is_fitted\n",
    "from sklearn.utils.estimator_checks import check_estimator\n",
    "from sklearn.linear_model import LinearRegression"
   ]
  },
  {
   "cell_type": "markdown",
   "metadata": {},
   "source": [
    "## Base class"
   ]
  },
  {
   "cell_type": "code",
   "execution_count": 56,
   "metadata": {},
   "outputs": [],
   "source": [
    "class ProgressiveRegressor(BaseEstimator, RegressorMixin):\n",
    "    \n",
    "    def __init__(self, base_model = LinearRegression()):\n",
    "        self.model = base_model\n",
    "        self.last_target = None\n",
    "    \n",
    "    def _shift(arr, num, fill_value=np.nan):\n",
    "        \"\"\"\n",
    "        Helper method for shifting numpy array\n",
    "        without looping back\n",
    "        \"\"\"\n",
    "        result = np.empty_like(arr)\n",
    "        if num > 0:\n",
    "            result[:num] = fill_value\n",
    "            result[num:] = arr[:-num]\n",
    "        elif num < 0:\n",
    "            result[num:] = fill_value\n",
    "            result[:num] = arr[-num:]\n",
    "        else:\n",
    "            result[:] = arr\n",
    "        return result\n",
    "    \n",
    "    def fit(self, X, y):\n",
    "        y_lag1 = self._shift(y, 1)\n",
    "        y_lag1[0] = y[0]\n",
    "        self.last_target = y[-1]\n",
    "        X_new = np.column_stack((X, y_lag1))\n",
    "        self.model.fit(X_new, y)\n",
    "        self.is_fitted_ = True\n",
    "        return self\n",
    "    \n",
    "    def predict(self, X):\n",
    "        X_new = np.column_stack(X, np.zeros(len(X)))\n",
    "        X_new[0,-1] = self.last_target\n",
    "        y_pred = np.zeros(len(X))\n",
    "        \n",
    "        for i in range(len(X)-1):\n",
    "            y_pred[i] = self.model.predict(X_new[i,:])\n",
    "            X_new[i+1:-1] = y_pred[i]\n",
    "        y_pred[-1] = self.model.predic(X_new[-1,:]) \n",
    "        return y_pred"
   ]
  }
 ],
 "metadata": {
  "kernelspec": {
   "display_name": "Python 3.7.4 64-bit ('base': conda)",
   "language": "python",
   "name": "python37464bitbasecondaebb5fd6537484cccb71c56cdcc6ab0f8"
  },
  "language_info": {
   "codemirror_mode": {
    "name": "ipython",
    "version": 3
   },
   "file_extension": ".py",
   "mimetype": "text/x-python",
   "name": "python",
   "nbconvert_exporter": "python",
   "pygments_lexer": "ipython3",
   "version": "3.7.4"
  }
 },
 "nbformat": 4,
 "nbformat_minor": 4
}
